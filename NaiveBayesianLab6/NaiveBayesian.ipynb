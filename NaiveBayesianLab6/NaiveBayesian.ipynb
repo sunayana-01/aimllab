{
 "cells": [
  {
   "cell_type": "markdown",
   "id": "a869e4b6",
   "metadata": {},
   "source": [
    "### Naive Bayesian Classifier"
   ]
  },
  {
   "cell_type": "markdown",
   "id": "039e2be9",
   "metadata": {},
   "source": [
    "#### Lab 6: Write a Program to implement the naive bayesian classifier for a sample training data set stored as a .CSV file. Compute the accuracy of the classifier few test data sets."
   ]
  },
  {
   "cell_type": "code",
   "execution_count": 2,
   "id": "1ec5dc30",
   "metadata": {},
   "outputs": [
    {
     "name": "stdout",
     "output_type": "stream",
     "text": [
      "Training Set: \n",
      "      Outlook Temperature Humidity   Windy PlayTennis\n",
      "2   Overcast         Hot     High    Weak        Yes\n",
      "3      Rainy        Mild     High    Weak        Yes\n",
      "6   Overcast        Cool   Normal  Strong        Yes\n",
      "9      Rainy        Mild   Normal    Weak        Yes\n",
      "7      Sunny        Mild     High    Weak         No\n",
      "10     Sunny        Mild   Normal  Strong        Yes\n",
      "11  Overcast        Mild     High  Strong        Yes\n",
      "1      Sunny         Hot     High  Strong         No\n",
      "8      Sunny        Cool   Normal    Weak        Yes\n",
      "0      Sunny         Hot     High    Weak         No\n",
      "\n",
      "Test Data Set: \n",
      "      Outlook Temperature Humidity   Windy PlayTennis\n",
      "4      Rainy        Cool   Normal    Weak        Yes\n",
      "5      Rainy        Cool   Normal  Strong         No\n",
      "12  Overcast         Hot   Normal    Weak        Yes\n",
      "13     Rainy        Mild     High  Strong         No\n",
      "\n",
      "Actual Values:  ['Yes', 'No', 'Yes', 'No']\n",
      "Predicted:  ['Yes', 'Yes', 'Yes', 'Yes']\n",
      "Accuracy:  0.5\n"
     ]
    }
   ],
   "source": [
    "import pandas as pd\n",
    "\n",
    "# Reading the dataset\n",
    "data = pd.read_csv('data.csv')\n",
    "\n",
    "# Calculating the total no., no. of positive and no. of negative instances\n",
    "te = len(data)\n",
    "np = len(data.loc[data[data.columns[-1]] == 'Yes'])\n",
    "nn = te - np\n",
    "\n",
    "# Dividing the dataset into training and test\n",
    "training = data.sample(frac=0.75, replace=False)\n",
    "test = pd.concat([data, training, training]).drop_duplicates(keep=False)\n",
    "\n",
    "print('Training Set: \\n', training)\n",
    "print('\\nTest Data Set: \\n', test)\n",
    "\n",
    "# For every value of each attribute, calculate the negative and positive probability\n",
    "prob = {}\n",
    "for col in training.columns[:-1]:\n",
    "    prob[col] = {}\n",
    "    vals = set(data[col])\n",
    "    for val in vals:\n",
    "        temp = training.loc[training[col] == val]\n",
    "        pe = len(temp.loc[temp[temp.columns[-1]] == 'Yes'])\n",
    "        ne = len(temp) - pe\n",
    "        prob[col][val] = [pe / np, ne / nn]\n",
    "\n",
    "# Using Bayes Theorem to Predict the output\n",
    "prediction = []\n",
    "right_prediction = 0\n",
    "\n",
    "for i in range(len(test)):\n",
    "    row = test.iloc[i, :]\n",
    "    fpp = np / te\n",
    "    fpn = nn / te\n",
    "\n",
    "    for col in test.columns[:-1]:\n",
    "        fpp *= prob[col][row[col]][0]\n",
    "        fpn *= prob[col][row[col]][1]\n",
    "\n",
    "    if fpp > fpn:\n",
    "        prediction.append('Yes')\n",
    "    else:\n",
    "        prediction.append('No')\n",
    "\n",
    "    if prediction[-1] == row[-1]:\n",
    "        right_prediction += 1\n",
    "\n",
    "# Output\n",
    "print('\\nActual Values: ', list(test[test.columns[-1]]))\n",
    "print('Predicted: ', prediction)\n",
    "print('Accuracy: ', right_prediction / len(test))"
   ]
  },
  {
   "cell_type": "code",
   "execution_count": null,
   "id": "2d640134",
   "metadata": {},
   "outputs": [],
   "source": []
  }
 ],
 "metadata": {
  "kernelspec": {
   "display_name": "Python 3 (ipykernel)",
   "language": "python",
   "name": "python3"
  },
  "language_info": {
   "codemirror_mode": {
    "name": "ipython",
    "version": 3
   },
   "file_extension": ".py",
   "mimetype": "text/x-python",
   "name": "python",
   "nbconvert_exporter": "python",
   "pygments_lexer": "ipython3",
   "version": "3.10.2"
  }
 },
 "nbformat": 4,
 "nbformat_minor": 5
}
